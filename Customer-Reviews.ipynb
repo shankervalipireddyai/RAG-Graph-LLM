{
  "nbformat": 4,
  "nbformat_minor": 0,
  "metadata": {
    "colab": {
      "provenance": [],
      "authorship_tag": "ABX9TyPthy+V+46vJ0h5gIZEgTHP",
      "include_colab_link": true
    },
    "kernelspec": {
      "name": "python3",
      "display_name": "Python 3"
    },
    "language_info": {
      "name": "python"
    }
  },
  "cells": [
    {
      "cell_type": "markdown",
      "metadata": {
        "id": "view-in-github",
        "colab_type": "text"
      },
      "source": [
        "<a href=\"https://colab.research.google.com/github/shankervalipireddyai/RAG-Graph-LLM/blob/master/Customer-Reviews.ipynb\" target=\"_parent\"><img src=\"https://colab.research.google.com/assets/colab-badge.svg\" alt=\"Open In Colab\"/></a>"
      ]
    },
    {
      "cell_type": "code",
      "execution_count": 7,
      "metadata": {
        "colab": {
          "base_uri": "https://localhost:8080/"
        },
        "id": "9UdvSPqKkCr6",
        "outputId": "ab0f9bbd-be0c-438d-d50c-64ece84ad123"
      },
      "outputs": [
        {
          "output_type": "stream",
          "name": "stdout",
          "text": [
            "Requirement already satisfied: sentence-transformers in /usr/local/lib/python3.10/dist-packages (from -r requirements.txt (line 1)) (2.7.0)\n",
            "Requirement already satisfied: umap-learn in /usr/local/lib/python3.10/dist-packages (from -r requirements.txt (line 2)) (0.5.6)\n",
            "Requirement already satisfied: hdbscan in /usr/local/lib/python3.10/dist-packages (from -r requirements.txt (line 3)) (0.8.33)\n",
            "Requirement already satisfied: scikit-learn in /usr/local/lib/python3.10/dist-packages (from -r requirements.txt (line 4)) (1.2.2)\n",
            "Requirement already satisfied: pandas in /usr/local/lib/python3.10/dist-packages (from -r requirements.txt (line 5)) (2.0.3)\n",
            "Requirement already satisfied: bokeh in /usr/local/lib/python3.10/dist-packages (from -r requirements.txt (line 6)) (3.3.4)\n",
            "Requirement already satisfied: instructor in /usr/local/lib/python3.10/dist-packages (from -r requirements.txt (line 7)) (1.2.4)\n",
            "Requirement already satisfied: openai in /usr/local/lib/python3.10/dist-packages (from -r requirements.txt (line 8)) (1.24.0)\n",
            "Requirement already satisfied: weave in /usr/local/lib/python3.10/dist-packages (from -r requirements.txt (line 9)) (0.50.1)\n",
            "Requirement already satisfied: transformers<5.0.0,>=4.34.0 in /usr/local/lib/python3.10/dist-packages (from sentence-transformers->-r requirements.txt (line 1)) (4.40.0)\n",
            "Requirement already satisfied: tqdm in /usr/local/lib/python3.10/dist-packages (from sentence-transformers->-r requirements.txt (line 1)) (4.66.2)\n",
            "Requirement already satisfied: torch>=1.11.0 in /usr/local/lib/python3.10/dist-packages (from sentence-transformers->-r requirements.txt (line 1)) (2.2.1+cu121)\n",
            "Requirement already satisfied: numpy in /usr/local/lib/python3.10/dist-packages (from sentence-transformers->-r requirements.txt (line 1)) (1.25.2)\n",
            "Requirement already satisfied: scipy in /usr/local/lib/python3.10/dist-packages (from sentence-transformers->-r requirements.txt (line 1)) (1.11.4)\n",
            "Requirement already satisfied: huggingface-hub>=0.15.1 in /usr/local/lib/python3.10/dist-packages (from sentence-transformers->-r requirements.txt (line 1)) (0.20.3)\n",
            "Requirement already satisfied: Pillow in /usr/local/lib/python3.10/dist-packages (from sentence-transformers->-r requirements.txt (line 1)) (9.4.0)\n",
            "Requirement already satisfied: numba>=0.51.2 in /usr/local/lib/python3.10/dist-packages (from umap-learn->-r requirements.txt (line 2)) (0.58.1)\n",
            "Requirement already satisfied: pynndescent>=0.5 in /usr/local/lib/python3.10/dist-packages (from umap-learn->-r requirements.txt (line 2)) (0.5.12)\n",
            "Requirement already satisfied: cython<3,>=0.27 in /usr/local/lib/python3.10/dist-packages (from hdbscan->-r requirements.txt (line 3)) (0.29.37)\n",
            "Requirement already satisfied: joblib>=1.0 in /usr/local/lib/python3.10/dist-packages (from hdbscan->-r requirements.txt (line 3)) (1.4.0)\n",
            "Requirement already satisfied: threadpoolctl>=2.0.0 in /usr/local/lib/python3.10/dist-packages (from scikit-learn->-r requirements.txt (line 4)) (3.4.0)\n",
            "Requirement already satisfied: python-dateutil>=2.8.2 in /usr/local/lib/python3.10/dist-packages (from pandas->-r requirements.txt (line 5)) (2.8.2)\n",
            "Requirement already satisfied: pytz>=2020.1 in /usr/local/lib/python3.10/dist-packages (from pandas->-r requirements.txt (line 5)) (2023.4)\n",
            "Requirement already satisfied: tzdata>=2022.1 in /usr/local/lib/python3.10/dist-packages (from pandas->-r requirements.txt (line 5)) (2024.1)\n",
            "Requirement already satisfied: Jinja2>=2.9 in /usr/local/lib/python3.10/dist-packages (from bokeh->-r requirements.txt (line 6)) (3.1.3)\n",
            "Requirement already satisfied: contourpy>=1 in /usr/local/lib/python3.10/dist-packages (from bokeh->-r requirements.txt (line 6)) (1.2.1)\n",
            "Requirement already satisfied: packaging>=16.8 in /usr/local/lib/python3.10/dist-packages (from bokeh->-r requirements.txt (line 6)) (24.0)\n",
            "Requirement already satisfied: PyYAML>=3.10 in /usr/local/lib/python3.10/dist-packages (from bokeh->-r requirements.txt (line 6)) (6.0.1)\n",
            "Requirement already satisfied: tornado>=5.1 in /usr/local/lib/python3.10/dist-packages (from bokeh->-r requirements.txt (line 6)) (6.3.3)\n",
            "Requirement already satisfied: xyzservices>=2021.09.1 in /usr/local/lib/python3.10/dist-packages (from bokeh->-r requirements.txt (line 6)) (2024.4.0)\n",
            "Requirement already satisfied: aiohttp<4.0.0,>=3.9.1 in /usr/local/lib/python3.10/dist-packages (from instructor->-r requirements.txt (line 7)) (3.9.5)\n",
            "Requirement already satisfied: docstring-parser<0.17,>=0.16 in /usr/local/lib/python3.10/dist-packages (from instructor->-r requirements.txt (line 7)) (0.16)\n",
            "Requirement already satisfied: pydantic==2.7.0 in /usr/local/lib/python3.10/dist-packages (from instructor->-r requirements.txt (line 7)) (2.7.0)\n",
            "Requirement already satisfied: pydantic-core<3.0.0,>=2.18.0 in /usr/local/lib/python3.10/dist-packages (from instructor->-r requirements.txt (line 7)) (2.18.1)\n",
            "Requirement already satisfied: rich<14.0.0,>=13.7.0 in /usr/local/lib/python3.10/dist-packages (from instructor->-r requirements.txt (line 7)) (13.7.1)\n",
            "Requirement already satisfied: tenacity<9.0.0,>=8.2.3 in /usr/local/lib/python3.10/dist-packages (from instructor->-r requirements.txt (line 7)) (8.2.3)\n",
            "Requirement already satisfied: typer<1.0.0,>=0.9.0 in /usr/local/lib/python3.10/dist-packages (from instructor->-r requirements.txt (line 7)) (0.9.4)\n",
            "Requirement already satisfied: annotated-types>=0.4.0 in /usr/local/lib/python3.10/dist-packages (from pydantic==2.7.0->instructor->-r requirements.txt (line 7)) (0.6.0)\n",
            "Requirement already satisfied: typing-extensions>=4.6.1 in /usr/local/lib/python3.10/dist-packages (from pydantic==2.7.0->instructor->-r requirements.txt (line 7)) (4.11.0)\n",
            "Requirement already satisfied: anyio<5,>=3.5.0 in /usr/local/lib/python3.10/dist-packages (from openai->-r requirements.txt (line 8)) (3.7.1)\n",
            "Requirement already satisfied: distro<2,>=1.7.0 in /usr/lib/python3/dist-packages (from openai->-r requirements.txt (line 8)) (1.7.0)\n",
            "Requirement already satisfied: httpx<1,>=0.23.0 in /usr/local/lib/python3.10/dist-packages (from openai->-r requirements.txt (line 8)) (0.27.0)\n",
            "Requirement already satisfied: sniffio in /usr/local/lib/python3.10/dist-packages (from openai->-r requirements.txt (line 8)) (1.3.1)\n",
            "Requirement already satisfied: pyarrow>=14.0.1 in /usr/local/lib/python3.10/dist-packages (from weave->-r requirements.txt (line 9)) (14.0.2)\n",
            "Requirement already satisfied: tiktoken>=0.4.0 in /usr/local/lib/python3.10/dist-packages (from weave->-r requirements.txt (line 9)) (0.6.0)\n",
            "Requirement already satisfied: aiofiles>=22.1.0 in /usr/local/lib/python3.10/dist-packages (from weave->-r requirements.txt (line 9)) (23.2.1)\n",
            "Requirement already satisfied: aioprocessing>=2.0.1 in /usr/local/lib/python3.10/dist-packages (from weave->-r requirements.txt (line 9)) (2.0.1)\n",
            "Requirement already satisfied: Werkzeug>=2.0.0 in /usr/local/lib/python3.10/dist-packages (from weave->-r requirements.txt (line 9)) (3.0.2)\n",
            "Requirement already satisfied: janus>=1.0.0 in /usr/local/lib/python3.10/dist-packages (from weave->-r requirements.txt (line 9)) (1.0.0)\n",
            "Requirement already satisfied: python-json-logger>=2.0.4 in /usr/local/lib/python3.10/dist-packages (from weave->-r requirements.txt (line 9)) (2.0.7)\n",
            "Requirement already satisfied: wandb>=0.16.4 in /usr/local/lib/python3.10/dist-packages (from weave->-r requirements.txt (line 9)) (0.16.6)\n",
            "Requirement already satisfied: graphql-core>3 in /usr/local/lib/python3.10/dist-packages (from weave->-r requirements.txt (line 9)) (3.2.3)\n",
            "Requirement already satisfied: gql[requests]>=3.4.1 in /usr/local/lib/python3.10/dist-packages (from weave->-r requirements.txt (line 9)) (3.5.0)\n",
            "Requirement already satisfied: analytics-python>=1.2.9 in /usr/local/lib/python3.10/dist-packages (from weave->-r requirements.txt (line 9)) (1.2.9)\n",
            "Requirement already satisfied: aiosignal>=1.1.2 in /usr/local/lib/python3.10/dist-packages (from aiohttp<4.0.0,>=3.9.1->instructor->-r requirements.txt (line 7)) (1.3.1)\n",
            "Requirement already satisfied: attrs>=17.3.0 in /usr/local/lib/python3.10/dist-packages (from aiohttp<4.0.0,>=3.9.1->instructor->-r requirements.txt (line 7)) (23.2.0)\n",
            "Requirement already satisfied: frozenlist>=1.1.1 in /usr/local/lib/python3.10/dist-packages (from aiohttp<4.0.0,>=3.9.1->instructor->-r requirements.txt (line 7)) (1.4.1)\n",
            "Requirement already satisfied: multidict<7.0,>=4.5 in /usr/local/lib/python3.10/dist-packages (from aiohttp<4.0.0,>=3.9.1->instructor->-r requirements.txt (line 7)) (6.0.5)\n",
            "Requirement already satisfied: yarl<2.0,>=1.0 in /usr/local/lib/python3.10/dist-packages (from aiohttp<4.0.0,>=3.9.1->instructor->-r requirements.txt (line 7)) (1.9.4)\n",
            "Requirement already satisfied: async-timeout<5.0,>=4.0 in /usr/local/lib/python3.10/dist-packages (from aiohttp<4.0.0,>=3.9.1->instructor->-r requirements.txt (line 7)) (4.0.3)\n",
            "Requirement already satisfied: requests<3.0,>=2.7 in /usr/local/lib/python3.10/dist-packages (from analytics-python>=1.2.9->weave->-r requirements.txt (line 9)) (2.31.0)\n",
            "Requirement already satisfied: six>=1.5 in /usr/local/lib/python3.10/dist-packages (from analytics-python>=1.2.9->weave->-r requirements.txt (line 9)) (1.16.0)\n",
            "Requirement already satisfied: idna>=2.8 in /usr/local/lib/python3.10/dist-packages (from anyio<5,>=3.5.0->openai->-r requirements.txt (line 8)) (3.7)\n",
            "Requirement already satisfied: exceptiongroup in /usr/local/lib/python3.10/dist-packages (from anyio<5,>=3.5.0->openai->-r requirements.txt (line 8)) (1.2.1)\n",
            "Requirement already satisfied: backoff<3.0,>=1.11.1 in /usr/local/lib/python3.10/dist-packages (from gql[requests]>=3.4.1->weave->-r requirements.txt (line 9)) (2.2.1)\n",
            "Requirement already satisfied: requests-toolbelt<2,>=1.0.0 in /usr/local/lib/python3.10/dist-packages (from gql[requests]>=3.4.1->weave->-r requirements.txt (line 9)) (1.0.0)\n",
            "Requirement already satisfied: certifi in /usr/local/lib/python3.10/dist-packages (from httpx<1,>=0.23.0->openai->-r requirements.txt (line 8)) (2024.2.2)\n",
            "Requirement already satisfied: httpcore==1.* in /usr/local/lib/python3.10/dist-packages (from httpx<1,>=0.23.0->openai->-r requirements.txt (line 8)) (1.0.5)\n",
            "Requirement already satisfied: h11<0.15,>=0.13 in /usr/local/lib/python3.10/dist-packages (from httpcore==1.*->httpx<1,>=0.23.0->openai->-r requirements.txt (line 8)) (0.14.0)\n",
            "Requirement already satisfied: filelock in /usr/local/lib/python3.10/dist-packages (from huggingface-hub>=0.15.1->sentence-transformers->-r requirements.txt (line 1)) (3.13.4)\n",
            "Requirement already satisfied: fsspec>=2023.5.0 in /usr/local/lib/python3.10/dist-packages (from huggingface-hub>=0.15.1->sentence-transformers->-r requirements.txt (line 1)) (2023.6.0)\n",
            "Requirement already satisfied: MarkupSafe>=2.0 in /usr/local/lib/python3.10/dist-packages (from Jinja2>=2.9->bokeh->-r requirements.txt (line 6)) (2.1.5)\n",
            "Requirement already satisfied: llvmlite<0.42,>=0.41.0dev0 in /usr/local/lib/python3.10/dist-packages (from numba>=0.51.2->umap-learn->-r requirements.txt (line 2)) (0.41.1)\n",
            "Requirement already satisfied: markdown-it-py>=2.2.0 in /usr/local/lib/python3.10/dist-packages (from rich<14.0.0,>=13.7.0->instructor->-r requirements.txt (line 7)) (3.0.0)\n",
            "Requirement already satisfied: pygments<3.0.0,>=2.13.0 in /usr/local/lib/python3.10/dist-packages (from rich<14.0.0,>=13.7.0->instructor->-r requirements.txt (line 7)) (2.16.1)\n",
            "Requirement already satisfied: regex>=2022.1.18 in /usr/local/lib/python3.10/dist-packages (from tiktoken>=0.4.0->weave->-r requirements.txt (line 9)) (2023.12.25)\n",
            "Requirement already satisfied: sympy in /usr/local/lib/python3.10/dist-packages (from torch>=1.11.0->sentence-transformers->-r requirements.txt (line 1)) (1.12)\n",
            "Requirement already satisfied: networkx in /usr/local/lib/python3.10/dist-packages (from torch>=1.11.0->sentence-transformers->-r requirements.txt (line 1)) (3.3)\n",
            "Requirement already satisfied: nvidia-cuda-nvrtc-cu12==12.1.105 in /usr/local/lib/python3.10/dist-packages (from torch>=1.11.0->sentence-transformers->-r requirements.txt (line 1)) (12.1.105)\n",
            "Requirement already satisfied: nvidia-cuda-runtime-cu12==12.1.105 in /usr/local/lib/python3.10/dist-packages (from torch>=1.11.0->sentence-transformers->-r requirements.txt (line 1)) (12.1.105)\n",
            "Requirement already satisfied: nvidia-cuda-cupti-cu12==12.1.105 in /usr/local/lib/python3.10/dist-packages (from torch>=1.11.0->sentence-transformers->-r requirements.txt (line 1)) (12.1.105)\n",
            "Requirement already satisfied: nvidia-cudnn-cu12==8.9.2.26 in /usr/local/lib/python3.10/dist-packages (from torch>=1.11.0->sentence-transformers->-r requirements.txt (line 1)) (8.9.2.26)\n",
            "Requirement already satisfied: nvidia-cublas-cu12==12.1.3.1 in /usr/local/lib/python3.10/dist-packages (from torch>=1.11.0->sentence-transformers->-r requirements.txt (line 1)) (12.1.3.1)\n",
            "Requirement already satisfied: nvidia-cufft-cu12==11.0.2.54 in /usr/local/lib/python3.10/dist-packages (from torch>=1.11.0->sentence-transformers->-r requirements.txt (line 1)) (11.0.2.54)\n",
            "Requirement already satisfied: nvidia-curand-cu12==10.3.2.106 in /usr/local/lib/python3.10/dist-packages (from torch>=1.11.0->sentence-transformers->-r requirements.txt (line 1)) (10.3.2.106)\n",
            "Requirement already satisfied: nvidia-cusolver-cu12==11.4.5.107 in /usr/local/lib/python3.10/dist-packages (from torch>=1.11.0->sentence-transformers->-r requirements.txt (line 1)) (11.4.5.107)\n",
            "Requirement already satisfied: nvidia-cusparse-cu12==12.1.0.106 in /usr/local/lib/python3.10/dist-packages (from torch>=1.11.0->sentence-transformers->-r requirements.txt (line 1)) (12.1.0.106)\n",
            "Requirement already satisfied: nvidia-nccl-cu12==2.19.3 in /usr/local/lib/python3.10/dist-packages (from torch>=1.11.0->sentence-transformers->-r requirements.txt (line 1)) (2.19.3)\n",
            "Requirement already satisfied: nvidia-nvtx-cu12==12.1.105 in /usr/local/lib/python3.10/dist-packages (from torch>=1.11.0->sentence-transformers->-r requirements.txt (line 1)) (12.1.105)\n",
            "Requirement already satisfied: triton==2.2.0 in /usr/local/lib/python3.10/dist-packages (from torch>=1.11.0->sentence-transformers->-r requirements.txt (line 1)) (2.2.0)\n",
            "Requirement already satisfied: nvidia-nvjitlink-cu12 in /usr/local/lib/python3.10/dist-packages (from nvidia-cusolver-cu12==11.4.5.107->torch>=1.11.0->sentence-transformers->-r requirements.txt (line 1)) (12.4.127)\n",
            "Requirement already satisfied: tokenizers<0.20,>=0.19 in /usr/local/lib/python3.10/dist-packages (from transformers<5.0.0,>=4.34.0->sentence-transformers->-r requirements.txt (line 1)) (0.19.1)\n",
            "Requirement already satisfied: safetensors>=0.4.1 in /usr/local/lib/python3.10/dist-packages (from transformers<5.0.0,>=4.34.0->sentence-transformers->-r requirements.txt (line 1)) (0.4.3)\n",
            "Requirement already satisfied: click<9.0.0,>=7.1.1 in /usr/local/lib/python3.10/dist-packages (from typer<1.0.0,>=0.9.0->instructor->-r requirements.txt (line 7)) (8.1.7)\n",
            "Requirement already satisfied: GitPython!=3.1.29,>=1.0.0 in /usr/local/lib/python3.10/dist-packages (from wandb>=0.16.4->weave->-r requirements.txt (line 9)) (3.1.43)\n",
            "Requirement already satisfied: psutil>=5.0.0 in /usr/local/lib/python3.10/dist-packages (from wandb>=0.16.4->weave->-r requirements.txt (line 9)) (5.9.5)\n",
            "Requirement already satisfied: sentry-sdk>=1.0.0 in /usr/local/lib/python3.10/dist-packages (from wandb>=0.16.4->weave->-r requirements.txt (line 9)) (2.0.1)\n",
            "Requirement already satisfied: docker-pycreds>=0.4.0 in /usr/local/lib/python3.10/dist-packages (from wandb>=0.16.4->weave->-r requirements.txt (line 9)) (0.4.0)\n",
            "Requirement already satisfied: setproctitle in /usr/local/lib/python3.10/dist-packages (from wandb>=0.16.4->weave->-r requirements.txt (line 9)) (1.3.3)\n",
            "Requirement already satisfied: setuptools in /usr/local/lib/python3.10/dist-packages (from wandb>=0.16.4->weave->-r requirements.txt (line 9)) (67.7.2)\n",
            "Requirement already satisfied: appdirs>=1.4.3 in /usr/local/lib/python3.10/dist-packages (from wandb>=0.16.4->weave->-r requirements.txt (line 9)) (1.4.4)\n",
            "Requirement already satisfied: protobuf!=4.21.0,<5,>=3.19.0 in /usr/local/lib/python3.10/dist-packages (from wandb>=0.16.4->weave->-r requirements.txt (line 9)) (3.20.3)\n",
            "Requirement already satisfied: gitdb<5,>=4.0.1 in /usr/local/lib/python3.10/dist-packages (from GitPython!=3.1.29,>=1.0.0->wandb>=0.16.4->weave->-r requirements.txt (line 9)) (4.0.11)\n",
            "Requirement already satisfied: mdurl~=0.1 in /usr/local/lib/python3.10/dist-packages (from markdown-it-py>=2.2.0->rich<14.0.0,>=13.7.0->instructor->-r requirements.txt (line 7)) (0.1.2)\n",
            "Requirement already satisfied: charset-normalizer<4,>=2 in /usr/local/lib/python3.10/dist-packages (from requests<3.0,>=2.7->analytics-python>=1.2.9->weave->-r requirements.txt (line 9)) (3.3.2)\n",
            "Requirement already satisfied: urllib3<3,>=1.21.1 in /usr/local/lib/python3.10/dist-packages (from requests<3.0,>=2.7->analytics-python>=1.2.9->weave->-r requirements.txt (line 9)) (2.0.7)\n",
            "Requirement already satisfied: mpmath>=0.19 in /usr/local/lib/python3.10/dist-packages (from sympy->torch>=1.11.0->sentence-transformers->-r requirements.txt (line 1)) (1.3.0)\n",
            "Requirement already satisfied: smmap<6,>=3.0.1 in /usr/local/lib/python3.10/dist-packages (from gitdb<5,>=4.0.1->GitPython!=3.1.29,>=1.0.0->wandb>=0.16.4->weave->-r requirements.txt (line 9)) (5.0.1)\n"
          ]
        },
        {
          "output_type": "stream",
          "name": "stderr",
          "text": [
            "\u001b[34m\u001b[1mwandb\u001b[0m: Currently logged in as: \u001b[33mshanker-valipireddy\u001b[0m (\u001b[33mwdc123\u001b[0m). Use \u001b[1m`wandb login --relogin`\u001b[0m to force relogin\n"
          ]
        }
      ],
      "source": [
        "!pip install -r requirements.txt\n",
        "!pip install wandb -qU\n",
        "\n",
        "import wandb\n",
        "import pandas as pd\n",
        "import os\n",
        "import re\n",
        "\n",
        "os.environ['OPENAI_API_KEY'] = \"sk-proj-UHOtWEkOuyPYTgN4gARFT3BlbkFJpqdnjQxXi8p55lvyupqW\"\n",
        "\n",
        "wandb.login()\n",
        "\n",
        "from clustering_utils import cluster_texts,  visualize, name_clusters, dedup_cluster_names, write_cluster_names_to_file,assign_clusters\n",
        "import warnings\n",
        "\n",
        "warnings.filterwarnings('ignore')\n"
      ]
    },
    {
      "cell_type": "code",
      "source": [
        "# Importing necessary libraries\n",
        "import pandas as pd\n",
        "import json\n",
        "\n",
        "# Load the CSV file\n",
        "df = pd.read_csv('myData.csv')  # Ensure the file path is correct\n",
        "\n",
        "# Extract the 'Text' column\n",
        "text_data = df['Text']  # Ensure there is a column named 'Text' in your CSV\n",
        "\n",
        "# Convert the 'Text' column to a JSON format where each entry is an object with \"Text\" as a key\n",
        "text_json = text_data.apply(lambda x: {'Text': x}).to_json(orient='records')\n",
        "\n",
        "# Printing the JSON data to verify the output\n",
        "print(text_json)\n",
        "\n",
        "# Optionally, write the JSON data to a file for further use\n",
        "with open('output_file.json', 'w') as file:\n",
        "    file.write(text_json)  # Writes the JSON string into a file named '"
      ],
      "metadata": {
        "colab": {
          "base_uri": "https://localhost:8080/"
        },
        "id": "5XB4GgJdkQv8",
        "outputId": "9a2bcdd5-16a5-4861-bbf9-6289222bb7e3"
      },
      "execution_count": 8,
      "outputs": [
        {
          "output_type": "stream",
          "name": "stdout",
          "text": [
            "[{\"Text\":\"Great experience with customer service, very helpful!\"},{\"Text\":\"Product quality was below my expectations, especially for the price.\"},{\"Text\":\"Fast and reliable delivery, but the product did not meet my expectations.\"},{\"Text\":\"Excellent value for money, the product exceeds expectations.\"},{\"Text\":\"The website is easy to navigate, and I found what I needed quickly.\"},{\"Text\":\"Customer service was unresponsive when I had issues with my order.\"},{\"Text\":\"Very satisfied with the product quality and ease of use.\"},{\"Text\":\"Product did not arrive on the expected delivery date, very disappointed.\"},{\"Text\":\"The product variety is amazing, found exactly what I was looking for!\"},{\"Text\":\"Prices are a bit high compared to other stores.\"},{\"Text\":\"Found the perfect size bandages for small cuts, very happy!\"},{\"Text\":\"Bandages stick well but lose adhesion too quickly in water.\"},{\"Text\":\"Excellent customer service when I had an issue with my order.\"},{\"Text\":\"The shipping was fast, but the bandages were not as described.\"},{\"Text\":\"Great variety in the box, but the quality could be better.\"},{\"Text\":\"Really happy with the purchase. Bandages stick well and are gentle on the skin.\"},{\"Text\":\"Not what I expected based on the description. Won't buy again.\"},{\"Text\":\"Value for money is outstanding, and they work just as well as brand names.\"},{\"Text\":\"Packaging was damaged upon arrival, but the contents were fine.\"},{\"Text\":\"Good for temporary use, but I wish they were more water-resistant.\"},{\"Text\":\"Surprised by the high quality of these generic bandages, will definitely repurchase.\"},{\"Text\":\"Needed a quick shipping option, and they delivered. Product as expected.\"},{\"Text\":\"Disappointed in the lack of smaller sizes in the variety pack.\"},{\"Text\":\"Bandages are fine, but the adhesive could be stronger for active use.\"},{\"Text\":\"Customer service was helpful in resolving a shipping issue.\"},{\"Text\":\"The best bandages for sensitive skin, no irritation at all.\"},{\"Text\":\"Expected better water resistance based on the product description.\"},{\"Text\":\"Variety pack is great, but some bandages don't stick well.\"},{\"Text\":\"Excellent value for the quantity and quality received.\"},{\"Text\":\"Pack lacked variety in sizes, mostly large bandages.\"},{\"Text\":\"Shipping was quicker than expected, product matches description perfectly.\"},{\"Text\":\"Adhesive doesn't last long, especially on kids who are always moving.\"},{\"Text\":\"Great for the price, but don't expect them to be waterproof.\"},{\"Text\":\"Quality is on par with more expensive brands, very satisfied.\"},{\"Text\":\"The variety is appreciated, but the overall quality is lacking.\"},{\"Text\":\"Was not expecting them to come in separate boxes but it does make it easier!\"},{\"Text\":\"The CVS Health Variety Pack Bandages are a reliable and versatile first-aid kit that's always ready for action. They're gentle on sensitive skin, stick like a champ, and come in a fun assortment that makes even the ouchies a little less ouch.\"},{\"Text\":\"All the grandchildren love these bandages. They just love the designed ones of course. I bought them for the great value. It's truly a great deal all around. Will purchase again!\"},{\"Text\":\"Great quality if you only need them to last for a short while. The waterproof bandages are not waterproof and the others smaller bandages don\\u2019t stay on long at all. Spend a little extra and get brand name.\"},{\"Text\":\"I really needed different sizes and these worked out perfectly\"},{\"Text\":\"Had a leg injury which the large bandages fully covered & did not tear skin when taking it off!\"},{\"Text\":\"I take these everywhere I go with my kids...never know when you are going to need some bandaids for those cuts and scrapes.\"},{\"Text\":\"This box of bandaid provided variety of sizes in bandaids.\"},{\"Text\":\"The assorted pack is really good for cuts and bruises where we can choose the shape according to our preference and the area that needs attention. My daughter hurt herself between her fingers and these came in handy. The assorted shape mean we could choose the best fit amongst them. They fit well and healed well. They might be advertised as waterproof but they are really not.\"},{\"Text\":\"This awesome variety pack of bandaids is already coming in handy. Theirs is one for every size and type of cut or scrape and this works for our household of two adults and a little infant. We don\\u2019t want inhibit we are prepared.\"},{\"Text\":\"Bandages are too thin and tear easily, not what I expected from the description.\"},{\"Text\":\"Very satisfied with the quick delivery and the product quality is top-notch!\"},{\"Text\":\"The adhesive is strong without being harsh on the skin, perfect for my sensitive skin.\"},{\"Text\":\"Disappointed by the lack of waterproof options in the variety pack.\"},{\"Text\":\"Customer service was outstanding, helped me resolve an issue promptly.\"},{\"Text\":\"Expected a better assortment of sizes, mostly got medium-sized bandages.\"},{\"Text\":\"Excellent for everyday cuts and scrapes, sticks well and doesn't irritate.\"},{\"Text\":\"Found the bandages to be less durable than expected, they come off too easily.\"},{\"Text\":\"Great price for the quantity, but the quality could be improved.\"},{\"Text\":\"The variety pack is convenient, but I wish there were more waterproof options.\"},{\"Text\":\"Product arrived later than expected, but the customer service team was very helpful.\"},{\"Text\":\"Not impressed with the adhesive quality, but the variety of sizes is a plus.\"},{\"Text\":\"Love the designs, they're great for kids. Just wish they'd stick longer.\"},{\"Text\":\"Bandages provide good coverage and protection, but they're not breathable enough.\"},{\"Text\":\"Shipping was fast and the bandages are of great quality, exactly what I needed.\"},{\"Text\":\"Package was damaged upon arrival, though the bandages inside were unaffected.\"},{\"Text\":\"Good value for the price, but the bandages lose their stickiness too quickly.\"},{\"Text\":\"Pleasantly surprised by the quality given the price point, will buy again.\"},{\"Text\":\"Bandages are okay for minor cuts, but don't expect them to stay on through handwashing.\"},{\"Text\":\"Variety pack is a great idea, but the overall quality and durability could be better.\"},{\"Text\":\"Absolutely love the ease of use with their online pharmacy. Refills are a breeze!\"},{\"Text\":\"Ordered prescription glasses and they arrived earlier than expected. Great service!\"},{\"Text\":\"Their 24\\/7 pharmacy saved us during a late-night fever scare. Can't thank them enough.\"},{\"Text\":\"Makeup selection is top-notch. Found everything I needed for a great price!\"},{\"Text\":\"Customer service could be more responsive. Had an issue that took too long to resolve.\"},{\"Text\":\"Love the rewards program! Saves me money on my regular purchases.\"},{\"Text\":\"The flu shot process was quick and professional. Highly recommend their pharmacy services.\"},{\"Text\":\"Disappointed with the lack of vegan beauty options. Hope they expand their selection.\"},{\"Text\":\"Got my COVID vaccine here. The staff was efficient and made the process stress-free.\"},{\"Text\":\"The store is always clean, and the staff is friendly. A pleasure to shop here.\"},{\"Text\":\"Prescription refill was delayed with little communication on the status. Frustrating experience.\"},{\"Text\":\"Found a great selection of organic products at reasonable prices. Will shop again.\"},{\"Text\":\"Online order arrived damaged, and the return process was more complicated than it needed to be.\"},{\"Text\":\"Their generic brand products are just as good as the name brands but much cheaper.\"},{\"Text\":\"Surprised by the poor quality of their house brand. Usually, CVS products are reliable.\"},{\"Text\":\"Skin care products are fantastic here. Found everything I needed and more!\"},{\"Text\":\"Checkout lines are always long, and there are never enough cashiers available.\"},{\"Text\":\"Appreciate the wide variety of health and wellness books available. Found some great reads!\"},{\"Text\":\"Photo service was fast and the quality exceeded my expectations. Great job!\"},{\"Text\":\"Needed urgent care and was able to get seen quickly at their MinuteClinic. Lifesaver!\"},{\"Text\":\"Exceptional service at the pharmacy counter. Staff went above and beyond to help!\"},{\"Text\":\"Found all my vitamins at great prices. The store brand is especially affordable.\"},{\"Text\":\"Checkout process online is clunky and needs improvement. Products are fine, though.\"},{\"Text\":\"CVS brand allergy medication works just as well as the name brands. Highly satisfied.\"},{\"Text\":\"The wait time for prescriptions is sometimes too long, even when the store isn't busy.\"},{\"Text\":\"Love the convenience of the CVS app for managing prescriptions and finding deals.\"},{\"Text\":\"Beauty section has improved a lot. Found some great cruelty-free brands.\"},{\"Text\":\"Pharmacy staff is knowledgeable but the store could use more cashiers during peak hours.\"},{\"Text\":\"The self-checkout machines are always malfunctioning. It's frustrating.\"},{\"Text\":\"Received expired products in my online order. Check your items carefully.\"},{\"Text\":\"MinuteClinic is a game-changer for quick healthcare needs. No appointment needed.\"},{\"Text\":\"Disappointed with the selection of gluten-free snacks. Other stores offer more.\"},{\"Text\":\"Their sunscreen range is fantastic. Found exactly what I needed for sensitive skin.\"},{\"Text\":\"Store layout makes it easy to find what you need quickly. Very shopper-friendly.\"},{\"Text\":\"Got a flu shot and the process was smooth and professional. Highly recommend.\"},{\"Text\":\"Customer service line was very helpful in resolving an issue with my rewards points.\"},{\"Text\":\"Found the perfect gift in the seasonal section. CVS always has great finds!\"},{\"Text\":\"Prescription prices can vary significantly. Make sure to use their price check tool.\"},{\"Text\":\"Appreciate the wide selection of health supplements, but prices could be better.\"},{\"Text\":\"CVS photo service never disappoints. Great quality prints every time.\"},{\"Text\":\"Needed help finding a product and the staff was nowhere to be found. Disappointing.\"},{\"Text\":\"Love the seasonal decorations and products. Always find something new.\"},{\"Text\":\"Snack selection is diverse and includes many healthy options. Prices are fair.\"},{\"Text\":\"Reward program is one of the best. Saves a lot if you shop regularly.\"},{\"Text\":\"Found a great selection of eco-friendly cleaning products. Very impressed.\"},{\"Text\":\"The store is always out of stock on popular items. Very frustrating.\"},{\"Text\":\"CVS has a great selection of over-the-counter medications at competitive prices.\"}]\n"
          ]
        }
      ]
    },
    {
      "cell_type": "code",
      "source": [
        "file_path = 'output_file.json'  # Make sure this path is correct\n",
        "\n",
        "# Load JSON data from file into DataFrame\n",
        "df = pd.read_json(file_path)\n",
        "\n",
        "# Display the DataFrame\n",
        "print(df)"
      ],
      "metadata": {
        "colab": {
          "base_uri": "https://localhost:8080/"
        },
        "id": "O-2s1mkQkZmv",
        "outputId": "b10672f1-4bca-4df7-cdc5-0ceef102b74d"
      },
      "execution_count": 9,
      "outputs": [
        {
          "output_type": "stream",
          "name": "stdout",
          "text": [
            "                                                  Text\n",
            "0    Great experience with customer service, very h...\n",
            "1    Product quality was below my expectations, esp...\n",
            "2    Fast and reliable delivery, but the product di...\n",
            "3    Excellent value for money, the product exceeds...\n",
            "4    The website is easy to navigate, and I found w...\n",
            "..                                                 ...\n",
            "107  Snack selection is diverse and includes many h...\n",
            "108  Reward program is one of the best. Saves a lot...\n",
            "109  Found a great selection of eco-friendly cleani...\n",
            "110  The store is always out of stock on popular it...\n",
            "111  CVS has a great selection of over-the-counter ...\n",
            "\n",
            "[112 rows x 1 columns]\n"
          ]
        }
      ]
    },
    {
      "cell_type": "code",
      "source": [
        "from sentence_transformers import SentenceTransformer\n",
        "import umap\n",
        "import hdbscan\n",
        "import pandas as pd\n",
        "import random\n",
        "from bokeh.models import ColumnDataSource, HoverTool, CategoricalColorMapper\n",
        "from bokeh.palettes import Turbo256\n",
        "from bokeh.plotting import figure\n",
        "from bokeh.transform import transform\n",
        "import bokeh.plotting as bpl\n",
        "import instructor\n",
        "from openai import OpenAI, AsyncOpenAI\n",
        "import weave\n",
        "import asyncio\n",
        "from pydantic import BaseModel, Field\n",
        "from typing import List\n",
        "\n",
        "\n",
        "df.rename(columns={'Text': 'description'}, inplace=True)\n",
        "\n",
        "\n",
        "clusters, embeddings = cluster_texts(df['description'].tolist())\n",
        "df['cluster_id'] = clusters\n",
        "# Name the clusters and save results to text file for inspection\n",
        "cluster_names = await name_clusters(df)\n",
        "write_cluster_names_to_file('stage1.txt', cluster_names)\n",
        "\n"
      ],
      "metadata": {
        "id": "uK6Wq5sHkc_W"
      },
      "execution_count": 10,
      "outputs": []
    },
    {
      "cell_type": "code",
      "source": [
        "print(df)\n",
        "print(cluster_names)\n",
        "df = await assign_clusters(df, cluster_names, create=False)\n",
        "df.to_csv('emails_with_clusters.csv', index=False)"
      ],
      "metadata": {
        "colab": {
          "base_uri": "https://localhost:8080/"
        },
        "id": "FDE5Yc5LkjTs",
        "outputId": "56a9f644-9bfe-40d4-8359-fd291e4d25a7"
      },
      "execution_count": 11,
      "outputs": [
        {
          "output_type": "stream",
          "name": "stdout",
          "text": [
            "                                           description  cluster_id\n",
            "0    Great experience with customer service, very h...           1\n",
            "1    Product quality was below my expectations, esp...           1\n",
            "2    Fast and reliable delivery, but the product di...           1\n",
            "3    Excellent value for money, the product exceeds...           1\n",
            "4    The website is easy to navigate, and I found w...           1\n",
            "..                                                 ...         ...\n",
            "107  Snack selection is diverse and includes many h...           1\n",
            "108  Reward program is one of the best. Saves a lot...           1\n",
            "109  Found a great selection of eco-friendly cleani...           1\n",
            "110  The store is always out of stock on popular it...           1\n",
            "111  CVS has a great selection of over-the-counter ...           1\n",
            "\n",
            "[112 rows x 2 columns]\n",
            "['Retail Store Services', 'Kid-Friendly & Sensitive Skin Bandages']\n"
          ]
        }
      ]
    }
  ]
}